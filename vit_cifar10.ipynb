{
  "nbformat": 4,
  "nbformat_minor": 0,
  "metadata": {
    "colab": {
      "provenance": [],
      "gpuType": "T4"
    },
    "kernelspec": {
      "name": "python3",
      "display_name": "Python 3"
    },
    "language_info": {
      "name": "python"
    },
    "accelerator": "GPU"
  },
  "cells": [
    {
      "cell_type": "markdown",
      "source": [
        "# Imports"
      ],
      "metadata": {
        "id": "eE2qlxwfOjPr"
      }
    },
    {
      "cell_type": "code",
      "source": [
        "import torch\n",
        "import torch.nn as nn\n",
        "import torchvision\n",
        "from torchvision import datasets, transforms\n",
        "from torch.utils.data import DataLoader\n",
        "import torch.optim as optim\n",
        "from tqdm import tqdm\n",
        "import matplotlib.pyplot as plt"
      ],
      "metadata": {
        "id": "hsWnQgb2OLcw"
      },
      "execution_count": 1,
      "outputs": []
    },
    {
      "cell_type": "markdown",
      "source": [
        "# Model Architecture"
      ],
      "metadata": {
        "id": "gkZYmkFlOO90"
      }
    },
    {
      "cell_type": "markdown",
      "source": [
        "## Patch Embedding"
      ],
      "metadata": {
        "id": "MYCz81hUOL3Z"
      }
    },
    {
      "cell_type": "code",
      "execution_count": 2,
      "metadata": {
        "id": "-dwOY49GKwo8"
      },
      "outputs": [],
      "source": [
        "class PatchEmbed(nn.Module):\n",
        "    def __init__(self, img_size = 224, patch_size = 16, in_chans = 3, embed_dim = 768):\n",
        "        super().__init__()\n",
        "        self.img_size = img_size\n",
        "        self.patch_size = patch_size\n",
        "        self.num_patches = (img_size // patch_size) ** 2\n",
        "\n",
        "        self.proj = nn.Conv2d(\n",
        "            in_chans,\n",
        "            embed_dim,\n",
        "            kernel_size = patch_size,\n",
        "            stride = patch_size)\n",
        "\n",
        "    def forward(self, x):\n",
        "        # x shape: [B, 3, 224, 224]\n",
        "        x = self.proj(x) # [B, emdbed_dim, H/patch, W/patch]\n",
        "        x = x.flatten(2) # [B, emdbed_dim, num_patches]\n",
        "        x = x.transpose(1, 2) # [B, num_patches, embed_dim]\n",
        "        return x"
      ]
    },
    {
      "cell_type": "markdown",
      "source": [
        "## Class Token and Positional Embeddings"
      ],
      "metadata": {
        "id": "lTCyA5oNOSIR"
      }
    },
    {
      "cell_type": "code",
      "source": [
        "import torch\n",
        "import torch.nn as nn\n",
        "\n",
        "class ViTEmbed(nn.Module):\n",
        "    def __init__(self, num_patches, embed_dim):\n",
        "        super().__init__()\n",
        "\n",
        "        # Learnable [CLS] token (1 per model)\n",
        "        self.cls_token = nn.Parameter(torch.zeros(1, 1, embed_dim))  # [1, 1, D]\n",
        "\n",
        "        # Learnable positional embeddings (1 per token, including CLS)\n",
        "        self.pos_embed = nn.Parameter(torch.zeros(1, num_patches + 1, embed_dim))  # [1, N+1, D]\n",
        "\n",
        "    def forward(self, x):\n",
        "        batch_size = x.shape[0]\n",
        "\n",
        "        # Expand [CLS] token to match batch size\n",
        "        cls_tokens = self.cls_token.expand(batch_size, -1, -1)  # [B, 1, D]\n",
        "\n",
        "        # Prepend CLS token to patch embeddings\n",
        "        x = torch.cat((cls_tokens, x), dim=1)  # [B, N+1, D]\n",
        "\n",
        "        # Add positional embeddings\n",
        "        x = x + self.pos_embed  # [B, N+1, D]\n",
        "\n",
        "        return x"
      ],
      "metadata": {
        "id": "J_u8f-iIN-3t"
      },
      "execution_count": 3,
      "outputs": []
    },
    {
      "cell_type": "markdown",
      "source": [
        "## Multi-Head Self-Attention"
      ],
      "metadata": {
        "id": "K6seHECpOXIb"
      }
    },
    {
      "cell_type": "code",
      "source": [
        "class MyMultiheadAttention(nn.Module):\n",
        "    def __init__(self, embed_dim, num_heads):\n",
        "        super().__init__()\n",
        "        assert embed_dim % num_heads == 0, \"embed_dim must be divisible by num_heads\"\n",
        "\n",
        "        self.embed_dim = embed_dim\n",
        "        self.num_heads = num_heads\n",
        "        self.head_dim = embed_dim // num_heads\n",
        "\n",
        "        # Learnable projections for Q, K, V\n",
        "        self.q_proj = nn.Linear(embed_dim, embed_dim)\n",
        "        self.k_proj = nn.Linear(embed_dim, embed_dim)\n",
        "        self.v_proj = nn.Linear(embed_dim, embed_dim)\n",
        "\n",
        "        # Final output projection\n",
        "        self.out_proj = nn.Linear(embed_dim, embed_dim)\n",
        "\n",
        "    def forward(self, x):\n",
        "        B, T, C = x.shape  # [batch, seq_len, embed_dim]\n",
        "\n",
        "        # Project input into Q, K, V\n",
        "        Q = self.q_proj(x)\n",
        "        K = self.k_proj(x)\n",
        "        V = self.v_proj(x)\n",
        "\n",
        "        # Reshape into heads: [B, num_heads, T, head_dim]\n",
        "        def split_heads(tensor):\n",
        "            return tensor.view(B, T, self.num_heads, self.head_dim).transpose(1, 2)\n",
        "\n",
        "        Q = split_heads(Q)\n",
        "        K = split_heads(K)\n",
        "        V = split_heads(V)\n",
        "\n",
        "        # Scaled dot-product attention\n",
        "        scores = torch.matmul(Q, K.transpose(-2, -1))  # [B, heads, T, T]\n",
        "        scores /= self.head_dim ** 0.5\n",
        "        attn = torch.softmax(scores, dim=-1)\n",
        "\n",
        "        # Apply attention to values\n",
        "        out = torch.matmul(attn, V)  # [B, heads, T, head_dim]\n",
        "\n",
        "        # Recombine heads\n",
        "        out = out.transpose(1, 2).contiguous().view(B, T, C)\n",
        "\n",
        "        # Final linear projection\n",
        "        return self.out_proj(out)"
      ],
      "metadata": {
        "id": "Ao-fFui_OCcG"
      },
      "execution_count": 4,
      "outputs": []
    },
    {
      "cell_type": "markdown",
      "source": [
        "## Transformer Encoder"
      ],
      "metadata": {
        "id": "7OtmDaxVOdW1"
      }
    },
    {
      "cell_type": "code",
      "source": [
        "class TransformerBlock(nn.Module):\n",
        "    def __init__(self, embed_dim, num_heads, mlp_ratio=4.0):\n",
        "        super().__init__()\n",
        "        self.norm1 = nn.LayerNorm(embed_dim)\n",
        "        self.attn = nn.MultiheadAttention(embed_dim, num_heads, batch_first=True)\n",
        "\n",
        "        self.norm2 = nn.LayerNorm(embed_dim)\n",
        "        self.mlp = nn.Sequential(\n",
        "            nn.Linear(embed_dim, int(embed_dim * mlp_ratio)),\n",
        "            nn.GELU(),\n",
        "            nn.Linear(int(embed_dim * mlp_ratio), embed_dim)\n",
        "        )\n",
        "\n",
        "    def forward(self, x):\n",
        "        # Self-attention with residual connection\n",
        "        x = x + self.attn(self.norm1(x), self.norm1(x), self.norm1(x))[0]\n",
        "\n",
        "        # MLP with residual connection\n",
        "        x = x + self.mlp(self.norm2(x))\n",
        "        return x"
      ],
      "metadata": {
        "id": "3N3noOtKOHLC"
      },
      "execution_count": 5,
      "outputs": []
    },
    {
      "cell_type": "markdown",
      "source": [
        "## Putting It All Together"
      ],
      "metadata": {
        "id": "as48jsxOOfuT"
      }
    },
    {
      "cell_type": "code",
      "source": [
        "class SimpleViT(nn.Module):\n",
        "    def __init__(\n",
        "        self, img_size=224, patch_size=16, in_chans=3,\n",
        "        embed_dim=768, depth=12, num_heads=12, num_classes=1000\n",
        "    ):\n",
        "        super().__init__()\n",
        "        self.patch_embed = PatchEmbed(img_size, patch_size, in_chans, embed_dim)\n",
        "        num_patches = (img_size // patch_size) ** 2\n",
        "        self.vit_embed = ViTEmbed(num_patches, embed_dim)\n",
        "\n",
        "        # Stack transformer blocks\n",
        "        self.blocks = nn.Sequential(*[\n",
        "            TransformerBlock(embed_dim, num_heads) for _ in range(depth)\n",
        "        ])\n",
        "\n",
        "        # Final normalization before classification\n",
        "        self.norm = nn.LayerNorm(embed_dim)\n",
        "\n",
        "        # Linear classification head (using the CLS token)\n",
        "        self.head = nn.Linear(embed_dim, num_classes)\n",
        "\n",
        "    def forward(self, x):  # [batch_size, channels, height, width]\n",
        "        x = self.patch_embed(x)         # -> [B, N, D]\n",
        "        x = self.vit_embed(x)           # add CLS token + pos embed\n",
        "        x = self.blocks(x)              # transformer layers\n",
        "        x = self.norm(x)                # normalize CLS token\n",
        "        return self.head(x[:, 0])       # classification using CLS token"
      ],
      "metadata": {
        "id": "VrP3ukkcOJNZ"
      },
      "execution_count": 6,
      "outputs": []
    },
    {
      "cell_type": "markdown",
      "source": [
        "# Training"
      ],
      "metadata": {
        "id": "_PwrAxHNOsiw"
      }
    },
    {
      "cell_type": "code",
      "source": [
        "def evaluate(model, dataloader, device):\n",
        "    model.eval()\n",
        "    correct, total = 0, 0\n",
        "    with torch.no_grad():\n",
        "        for images, labels in dataloader:\n",
        "            images, labels = images.to(device), labels.to(device)\n",
        "            outputs = model(images)\n",
        "            predicted = outputs.argmax(dim=1)\n",
        "            correct += (predicted == labels).sum().item()\n",
        "            total += labels.size(0)\n",
        "    return correct / total"
      ],
      "metadata": {
        "id": "m5hcPgpsRxVF"
      },
      "execution_count": 7,
      "outputs": []
    },
    {
      "cell_type": "code",
      "source": [
        "transform = transforms.Compose([\n",
        "    transforms.ToTensor()\n",
        "])\n",
        "\n",
        "# Load CIFAR-10 dataset\n",
        "trainset = datasets.CIFAR10(root='./data', train=True, download=True, transform=transform)\n",
        "testset = datasets.CIFAR10(root='./data', train=False, download=True, transform=transform)\n",
        "\n",
        "trainloader = DataLoader(trainset, batch_size=80, shuffle=True)\n",
        "testloader = DataLoader(testset, batch_size=80)"
      ],
      "metadata": {
        "colab": {
          "base_uri": "https://localhost:8080/"
        },
        "id": "I8LkgeoKOwzJ",
        "outputId": "87e2da64-0374-47ef-efff-bb039303d3a8"
      },
      "execution_count": 8,
      "outputs": [
        {
          "output_type": "stream",
          "name": "stderr",
          "text": [
            "100%|██████████| 170M/170M [00:03<00:00, 43.8MB/s]\n"
          ]
        }
      ]
    },
    {
      "cell_type": "code",
      "source": [
        "device = torch.device(\"cuda\" if torch.cuda.is_available() else \"cpu\")\n",
        "\n",
        "# Refactored SimpleViT config for CIFAR-10\n",
        "model = SimpleViT(\n",
        "    img_size=32,         # CIFAR-10 images are 32x32\n",
        "    patch_size=4,        # 4x4 patches → 64 tokens\n",
        "    in_chans=3,\n",
        "    embed_dim=192,       # Smaller embedding size\n",
        "    depth=6,             # Fewer transformer blocks\n",
        "    num_heads=3,         # Divides evenly into 192\n",
        "    num_classes=10       # For CIFAR-10\n",
        ").to(device)\n",
        "\n",
        "optimizer = optim.Adam(model.parameters(), lr=3e-4)\n",
        "criterion = nn.CrossEntropyLoss()"
      ],
      "metadata": {
        "id": "c5psmdIkPjkD"
      },
      "execution_count": 9,
      "outputs": []
    },
    {
      "cell_type": "markdown",
      "source": [
        "## Training Loop"
      ],
      "metadata": {
        "id": "Hb8bi6diP1h3"
      }
    },
    {
      "cell_type": "code",
      "source": [
        "def train(model, trainloader, testloader, optimizer, criterion, device, epochs=5):\n",
        "    train_losses = []\n",
        "    test_accuracies = []\n",
        "\n",
        "    for epoch in range(epochs):\n",
        "        model.train()\n",
        "        running_loss = 0.0\n",
        "\n",
        "        for images, labels in tqdm(trainloader, desc=f\"Epoch {epoch+1}/{epochs}\"):\n",
        "            images, labels = images.to(device), labels.to(device)\n",
        "\n",
        "            optimizer.zero_grad()\n",
        "            outputs = model(images)\n",
        "            loss = criterion(outputs, labels)\n",
        "            loss.backward()\n",
        "            optimizer.step()\n",
        "\n",
        "            running_loss += loss.item()\n",
        "\n",
        "        avg_loss = running_loss / len(trainloader)\n",
        "        train_losses.append(avg_loss)\n",
        "\n",
        "        # Evaluate on test set after each epoch\n",
        "        test_acc = evaluate(model, testloader, device)\n",
        "        test_accuracies.append(test_acc)\n",
        "\n",
        "        print(f\"Epoch {epoch+1}/{epochs} | Loss: {avg_loss:.4f} | Test Accuracy: {test_acc:.4f}\")\n",
        "\n",
        "    return train_losses, test_accuracies"
      ],
      "metadata": {
        "id": "yynSm68zPoVy"
      },
      "execution_count": 10,
      "outputs": []
    },
    {
      "cell_type": "code",
      "source": [
        "train_losses, test_accuracies = train(model, trainloader, testloader, optimizer, criterion, device, epochs=30)"
      ],
      "metadata": {
        "colab": {
          "base_uri": "https://localhost:8080/"
        },
        "id": "4tl5yLoSP5Yj",
        "outputId": "9854bc02-0523-4b3c-c012-1a29e89ab269"
      },
      "execution_count": 11,
      "outputs": [
        {
          "output_type": "stream",
          "name": "stderr",
          "text": [
            "Epoch 1/30: 100%|██████████| 625/625 [00:32<00:00, 18.95it/s]\n"
          ]
        },
        {
          "output_type": "stream",
          "name": "stdout",
          "text": [
            "Epoch 1/30 | Loss: 1.7814 | Test Accuracy: 0.4424\n"
          ]
        },
        {
          "output_type": "stream",
          "name": "stderr",
          "text": [
            "Epoch 2/30: 100%|██████████| 625/625 [00:32<00:00, 19.12it/s]\n"
          ]
        },
        {
          "output_type": "stream",
          "name": "stdout",
          "text": [
            "Epoch 2/30 | Loss: 1.4317 | Test Accuracy: 0.5128\n"
          ]
        },
        {
          "output_type": "stream",
          "name": "stderr",
          "text": [
            "Epoch 3/30: 100%|██████████| 625/625 [00:32<00:00, 19.10it/s]\n"
          ]
        },
        {
          "output_type": "stream",
          "name": "stdout",
          "text": [
            "Epoch 3/30 | Loss: 1.2916 | Test Accuracy: 0.5365\n"
          ]
        },
        {
          "output_type": "stream",
          "name": "stderr",
          "text": [
            "Epoch 4/30: 100%|██████████| 625/625 [00:33<00:00, 18.89it/s]\n"
          ]
        },
        {
          "output_type": "stream",
          "name": "stdout",
          "text": [
            "Epoch 4/30 | Loss: 1.2132 | Test Accuracy: 0.5490\n"
          ]
        },
        {
          "output_type": "stream",
          "name": "stderr",
          "text": [
            "Epoch 5/30: 100%|██████████| 625/625 [00:33<00:00, 18.79it/s]\n"
          ]
        },
        {
          "output_type": "stream",
          "name": "stdout",
          "text": [
            "Epoch 5/30 | Loss: 1.1525 | Test Accuracy: 0.5522\n"
          ]
        },
        {
          "output_type": "stream",
          "name": "stderr",
          "text": [
            "Epoch 6/30: 100%|██████████| 625/625 [00:33<00:00, 18.82it/s]\n"
          ]
        },
        {
          "output_type": "stream",
          "name": "stdout",
          "text": [
            "Epoch 6/30 | Loss: 1.1044 | Test Accuracy: 0.5888\n"
          ]
        },
        {
          "output_type": "stream",
          "name": "stderr",
          "text": [
            "Epoch 7/30: 100%|██████████| 625/625 [00:33<00:00, 18.75it/s]\n"
          ]
        },
        {
          "output_type": "stream",
          "name": "stdout",
          "text": [
            "Epoch 7/30 | Loss: 1.0584 | Test Accuracy: 0.5878\n"
          ]
        },
        {
          "output_type": "stream",
          "name": "stderr",
          "text": [
            "Epoch 8/30: 100%|██████████| 625/625 [00:33<00:00, 18.77it/s]\n"
          ]
        },
        {
          "output_type": "stream",
          "name": "stdout",
          "text": [
            "Epoch 8/30 | Loss: 1.0149 | Test Accuracy: 0.5798\n"
          ]
        },
        {
          "output_type": "stream",
          "name": "stderr",
          "text": [
            "Epoch 9/30: 100%|██████████| 625/625 [00:33<00:00, 18.73it/s]\n"
          ]
        },
        {
          "output_type": "stream",
          "name": "stdout",
          "text": [
            "Epoch 9/30 | Loss: 0.9708 | Test Accuracy: 0.5991\n"
          ]
        },
        {
          "output_type": "stream",
          "name": "stderr",
          "text": [
            "Epoch 10/30: 100%|██████████| 625/625 [00:33<00:00, 18.76it/s]\n"
          ]
        },
        {
          "output_type": "stream",
          "name": "stdout",
          "text": [
            "Epoch 10/30 | Loss: 0.9240 | Test Accuracy: 0.5990\n"
          ]
        },
        {
          "output_type": "stream",
          "name": "stderr",
          "text": [
            "Epoch 11/30: 100%|██████████| 625/625 [00:33<00:00, 18.84it/s]\n"
          ]
        },
        {
          "output_type": "stream",
          "name": "stdout",
          "text": [
            "Epoch 11/30 | Loss: 0.8728 | Test Accuracy: 0.6083\n"
          ]
        },
        {
          "output_type": "stream",
          "name": "stderr",
          "text": [
            "Epoch 12/30: 100%|██████████| 625/625 [00:33<00:00, 18.88it/s]\n"
          ]
        },
        {
          "output_type": "stream",
          "name": "stdout",
          "text": [
            "Epoch 12/30 | Loss: 0.8223 | Test Accuracy: 0.6050\n"
          ]
        },
        {
          "output_type": "stream",
          "name": "stderr",
          "text": [
            "Epoch 13/30: 100%|██████████| 625/625 [00:33<00:00, 18.83it/s]\n"
          ]
        },
        {
          "output_type": "stream",
          "name": "stdout",
          "text": [
            "Epoch 13/30 | Loss: 0.7666 | Test Accuracy: 0.6088\n"
          ]
        },
        {
          "output_type": "stream",
          "name": "stderr",
          "text": [
            "Epoch 14/30: 100%|██████████| 625/625 [00:33<00:00, 18.81it/s]\n"
          ]
        },
        {
          "output_type": "stream",
          "name": "stdout",
          "text": [
            "Epoch 14/30 | Loss: 0.7035 | Test Accuracy: 0.6194\n"
          ]
        },
        {
          "output_type": "stream",
          "name": "stderr",
          "text": [
            "Epoch 15/30: 100%|██████████| 625/625 [00:33<00:00, 18.84it/s]\n"
          ]
        },
        {
          "output_type": "stream",
          "name": "stdout",
          "text": [
            "Epoch 15/30 | Loss: 0.6371 | Test Accuracy: 0.6012\n"
          ]
        },
        {
          "output_type": "stream",
          "name": "stderr",
          "text": [
            "Epoch 16/30: 100%|██████████| 625/625 [00:33<00:00, 18.83it/s]\n"
          ]
        },
        {
          "output_type": "stream",
          "name": "stdout",
          "text": [
            "Epoch 16/30 | Loss: 0.5691 | Test Accuracy: 0.6057\n"
          ]
        },
        {
          "output_type": "stream",
          "name": "stderr",
          "text": [
            "Epoch 17/30: 100%|██████████| 625/625 [00:33<00:00, 18.84it/s]\n"
          ]
        },
        {
          "output_type": "stream",
          "name": "stdout",
          "text": [
            "Epoch 17/30 | Loss: 0.4982 | Test Accuracy: 0.6112\n"
          ]
        },
        {
          "output_type": "stream",
          "name": "stderr",
          "text": [
            "Epoch 18/30: 100%|██████████| 625/625 [00:33<00:00, 18.81it/s]\n"
          ]
        },
        {
          "output_type": "stream",
          "name": "stdout",
          "text": [
            "Epoch 18/30 | Loss: 0.4283 | Test Accuracy: 0.6076\n"
          ]
        },
        {
          "output_type": "stream",
          "name": "stderr",
          "text": [
            "Epoch 19/30: 100%|██████████| 625/625 [00:33<00:00, 18.84it/s]\n"
          ]
        },
        {
          "output_type": "stream",
          "name": "stdout",
          "text": [
            "Epoch 19/30 | Loss: 0.3733 | Test Accuracy: 0.6003\n"
          ]
        },
        {
          "output_type": "stream",
          "name": "stderr",
          "text": [
            "Epoch 20/30: 100%|██████████| 625/625 [00:33<00:00, 18.84it/s]\n"
          ]
        },
        {
          "output_type": "stream",
          "name": "stdout",
          "text": [
            "Epoch 20/30 | Loss: 0.3169 | Test Accuracy: 0.5950\n"
          ]
        },
        {
          "output_type": "stream",
          "name": "stderr",
          "text": [
            "Epoch 21/30: 100%|██████████| 625/625 [00:33<00:00, 18.85it/s]\n"
          ]
        },
        {
          "output_type": "stream",
          "name": "stdout",
          "text": [
            "Epoch 21/30 | Loss: 0.2686 | Test Accuracy: 0.5991\n"
          ]
        },
        {
          "output_type": "stream",
          "name": "stderr",
          "text": [
            "Epoch 22/30: 100%|██████████| 625/625 [00:33<00:00, 18.84it/s]\n"
          ]
        },
        {
          "output_type": "stream",
          "name": "stdout",
          "text": [
            "Epoch 22/30 | Loss: 0.2352 | Test Accuracy: 0.5976\n"
          ]
        },
        {
          "output_type": "stream",
          "name": "stderr",
          "text": [
            "Epoch 23/30: 100%|██████████| 625/625 [00:33<00:00, 18.88it/s]\n"
          ]
        },
        {
          "output_type": "stream",
          "name": "stdout",
          "text": [
            "Epoch 23/30 | Loss: 0.2032 | Test Accuracy: 0.5831\n"
          ]
        },
        {
          "output_type": "stream",
          "name": "stderr",
          "text": [
            "Epoch 24/30: 100%|██████████| 625/625 [00:33<00:00, 18.87it/s]\n"
          ]
        },
        {
          "output_type": "stream",
          "name": "stdout",
          "text": [
            "Epoch 24/30 | Loss: 0.1902 | Test Accuracy: 0.5967\n"
          ]
        },
        {
          "output_type": "stream",
          "name": "stderr",
          "text": [
            "Epoch 25/30: 100%|██████████| 625/625 [00:33<00:00, 18.84it/s]\n"
          ]
        },
        {
          "output_type": "stream",
          "name": "stdout",
          "text": [
            "Epoch 25/30 | Loss: 0.1629 | Test Accuracy: 0.5896\n"
          ]
        },
        {
          "output_type": "stream",
          "name": "stderr",
          "text": [
            "Epoch 26/30: 100%|██████████| 625/625 [00:33<00:00, 18.85it/s]\n"
          ]
        },
        {
          "output_type": "stream",
          "name": "stdout",
          "text": [
            "Epoch 26/30 | Loss: 0.1556 | Test Accuracy: 0.5993\n"
          ]
        },
        {
          "output_type": "stream",
          "name": "stderr",
          "text": [
            "Epoch 27/30: 100%|██████████| 625/625 [00:33<00:00, 18.88it/s]\n"
          ]
        },
        {
          "output_type": "stream",
          "name": "stdout",
          "text": [
            "Epoch 27/30 | Loss: 0.1440 | Test Accuracy: 0.5951\n"
          ]
        },
        {
          "output_type": "stream",
          "name": "stderr",
          "text": [
            "Epoch 28/30: 100%|██████████| 625/625 [00:33<00:00, 18.83it/s]\n"
          ]
        },
        {
          "output_type": "stream",
          "name": "stdout",
          "text": [
            "Epoch 28/30 | Loss: 0.1412 | Test Accuracy: 0.5901\n"
          ]
        },
        {
          "output_type": "stream",
          "name": "stderr",
          "text": [
            "Epoch 29/30: 100%|██████████| 625/625 [00:33<00:00, 18.88it/s]\n"
          ]
        },
        {
          "output_type": "stream",
          "name": "stdout",
          "text": [
            "Epoch 29/30 | Loss: 0.1285 | Test Accuracy: 0.5947\n"
          ]
        },
        {
          "output_type": "stream",
          "name": "stderr",
          "text": [
            "Epoch 30/30: 100%|██████████| 625/625 [00:33<00:00, 18.85it/s]\n"
          ]
        },
        {
          "output_type": "stream",
          "name": "stdout",
          "text": [
            "Epoch 30/30 | Loss: 0.1259 | Test Accuracy: 0.5987\n"
          ]
        }
      ]
    },
    {
      "cell_type": "markdown",
      "source": [
        "## Plots"
      ],
      "metadata": {
        "id": "Llb8DXMNQKLT"
      }
    },
    {
      "cell_type": "code",
      "source": [
        "def plot_metrics(train_losses, test_accuracies):\n",
        "    epochs = range(1, len(train_losses) + 1)\n",
        "\n",
        "    plt.figure(figsize=(12, 5))\n",
        "\n",
        "    # Loss plot\n",
        "    plt.subplot(1, 2, 1)\n",
        "    plt.plot(epochs, train_losses, marker='o')\n",
        "    plt.title(\"Training Loss\")\n",
        "    plt.xlabel(\"Epoch\")\n",
        "    plt.ylabel(\"Loss\")\n",
        "\n",
        "    # Accuracy plot\n",
        "    plt.subplot(1, 2, 2)\n",
        "    plt.plot(epochs, test_accuracies, marker='o', color='green')\n",
        "    plt.title(\"Test Accuracy\")\n",
        "    plt.xlabel(\"Epoch\")\n",
        "    plt.ylabel(\"Accuracy\")\n",
        "\n",
        "    plt.tight_layout()\n",
        "    plt.show()"
      ],
      "metadata": {
        "id": "8cVKPgYPQMjR"
      },
      "execution_count": 12,
      "outputs": []
    },
    {
      "cell_type": "code",
      "source": [
        "plot_metrics(train_losses, test_accuracies)"
      ],
      "metadata": {
        "colab": {
          "base_uri": "https://localhost:8080/",
          "height": 507
        },
        "id": "nc7AICIHQPkF",
        "outputId": "6ce5e7ab-7ab1-450c-beb4-4f20da227751"
      },
      "execution_count": 13,
      "outputs": [
        {
          "output_type": "display_data",
          "data": {
            "text/plain": [
              "<Figure size 1200x500 with 2 Axes>"
            ],
            "image/png": "[encoded data removed]"
          },
          "metadata": {}
        }
      ]
    },
    {
      "cell_type": "code",
      "source": [
        "def class_accuracy(model, dataloader, classes, device):\n",
        "    correct = [0] * len(classes)\n",
        "    total = [0] * len(classes)\n",
        "\n",
        "    model.eval()\n",
        "    with torch.no_grad():\n",
        "        for images, labels in dataloader:\n",
        "            images, labels = images.to(device), labels.to(device)\n",
        "            outputs = model(images)\n",
        "            preds = outputs.argmax(dim=1)\n",
        "\n",
        "            for label, pred in zip(labels, preds):\n",
        "                total[label] += 1\n",
        "                correct[label] += int(pred == label)\n",
        "\n",
        "    accs = [100 * c / t if t else 0 for c, t in zip(correct, total)]\n",
        "\n",
        "    plt.figure(figsize=(10, 4))\n",
        "    plt.bar(classes, accs)\n",
        "    plt.ylabel(\"Accuracy (%)\")\n",
        "    plt.xticks(rotation=45)\n",
        "    plt.title(\"Accuracy per Class\")\n",
        "    plt.show()\n"
      ],
      "metadata": {
        "id": "teZo4QhAQh9F"
      },
      "execution_count": 14,
      "outputs": []
    },
    {
      "cell_type": "code",
      "source": [
        "classes = [\n",
        "    'airplane', 'automobile', 'bird', 'cat', 'deer',\n",
        "    'dog', 'frog', 'horse', 'ship', 'truck'\n",
        "]\n",
        "\n",
        "class_accuracy(model, testloader, classes, device)"
      ],
      "metadata": {
        "colab": {
          "base_uri": "https://localhost:8080/",
          "height": 442
        },
        "id": "lZzQbjmvXoD4",
        "outputId": "268b8ce8-07a7-43e3-d070-b3c849100f42"
      },
      "execution_count": 15,
      "outputs": [
        {
          "output_type": "display_data",
          "data": {
            "text/plain": [
              "<Figure size 1000x400 with 1 Axes>"
            ],
            "image/png": "[encoded data removed]"
          },
          "metadata": {}
        }
      ]
    },
    {
      "cell_type": "code",
      "source": [
        "def show_predictions(model, dataloader, classes, device, n=6):\n",
        "    model.eval()\n",
        "    images, labels = next(iter(dataloader))\n",
        "    images, labels = images[:n].to(device), labels[:n].to(device)\n",
        "\n",
        "    with torch.no_grad():\n",
        "        outputs = model(images)\n",
        "        preds = outputs.argmax(dim=1)\n",
        "\n",
        "    images = images.cpu()\n",
        "    fig, axs = plt.subplots(1, n, figsize=(15, 3))\n",
        "    for i in range(n):\n",
        "        axs[i].imshow(images[i].permute(1, 2, 0))\n",
        "        axs[i].set_title(f\"Pred: {classes[preds[i]]}\\nTrue: {classes[labels[i]]}\")\n",
        "        axs[i].axis('off')\n",
        "    plt.show()"
      ],
      "metadata": {
        "id": "HhQrp6DoQmH1"
      },
      "execution_count": 16,
      "outputs": []
    },
    {
      "cell_type": "code",
      "source": [
        "show_predictions(model, testloader, classes, device)"
      ],
      "metadata": {
        "colab": {
          "base_uri": "https://localhost:8080/",
          "height": 246
        },
        "id": "jwLC2riv3MvV",
        "outputId": "f3be2a43-3b56-409e-b742-36578931bde5"
      },
      "execution_count": 17,
      "outputs": [
        {
          "output_type": "display_data",
          "data": {
            "text/plain": [
              "<Figure size 1500x300 with 6 Axes>"
            ],
            "image/png": "[encoded data removed]"
          },
          "metadata": {}
        }
      ]
    }
  ]
}